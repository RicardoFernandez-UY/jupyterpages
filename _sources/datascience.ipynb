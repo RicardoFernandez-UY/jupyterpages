{
 "cells": [
  {
   "cell_type": "code",
   "execution_count": 0,
   "metadata": {
    "colab": {
     "base_uri": "https://localhost:8080/",
     "height": 72
    },
    "colab_type": "code",
    "id": "WKikE1MNW1vR",
    "outputId": "bf76e23c-ad5b-4769-c2ef-632e2ac1bc15"
   },
   "outputs": [
    {
     "name": "stderr",
     "output_type": "stream",
     "text": [
      "/usr/local/lib/python3.6/dist-packages/statsmodels/tools/_testing.py:19: FutureWarning: pandas.util.testing is deprecated. Use the functions in the public API at pandas.testing instead.\n",
      "  import pandas.util.testing as tm\n"
     ]
    }
   ],
   "source": [
    "#regresiones lineales \n",
    "\"\"\"\n",
    "The first line of the preceding code enables matplotlib to display the graphical output of the code in the notebook environment. \n",
    "The lines of code that follow use the import keyword to load various Python modules into our programming environment.\n",
    "The last statement is used to set the aesthetic look of the graphs that matplotlib generates to the type displayed by the seaborn module.\n",
    "\"\"\"\n",
    "%matplotlib inline \n",
    "import matplotlib as mpl \n",
    "import seaborn as sns \n",
    "import matplotlib.pyplot as plt \n",
    "import statsmodels.formula.api as smf \n",
    "import statsmodels.graphics.api as smg \n",
    "import pandas as pd \n",
    "import numpy as np \n",
    "import patsy \n",
    "from statsmodels.graphics.correlation import plot_corr \n",
    "from sklearn.model_selection import train_test_split \n",
    "plt.style.use('seaborn') "
   ]
  },
  {
   "cell_type": "code",
   "execution_count": 0,
   "metadata": {
    "colab": {},
    "colab_type": "code",
    "id": "l4pWTZcKIZKB"
   },
   "outputs": [],
   "source": [
    "rawBostonData = pd.read_csv('https://raw.githubusercontent.com/PacktWorkshops/The-Data-Science-Workshop/master/Chapter02/Dataset/Boston.csv')"
   ]
  },
  {
   "cell_type": "code",
   "execution_count": 0,
   "metadata": {
    "colab": {
     "base_uri": "https://localhost:8080/",
     "height": 202
    },
    "colab_type": "code",
    "id": "ftD9XhzGIcn_",
    "outputId": "5fa48726-9e31-448b-dbba-fcb9ff59bfdd"
   },
   "outputs": [
    {
     "data": {
      "text/html": [
       "<div>\n",
       "<style scoped>\n",
       "    .dataframe tbody tr th:only-of-type {\n",
       "        vertical-align: middle;\n",
       "    }\n",
       "\n",
       "    .dataframe tbody tr th {\n",
       "        vertical-align: top;\n",
       "    }\n",
       "\n",
       "    .dataframe thead th {\n",
       "        text-align: right;\n",
       "    }\n",
       "</style>\n",
       "<table border=\"1\" class=\"dataframe\">\n",
       "  <thead>\n",
       "    <tr style=\"text-align: right;\">\n",
       "      <th></th>\n",
       "      <th>CRIM</th>\n",
       "      <th>ZN</th>\n",
       "      <th>INDUS</th>\n",
       "      <th>CHAS</th>\n",
       "      <th>NOX</th>\n",
       "      <th>RM</th>\n",
       "      <th>AGE</th>\n",
       "      <th>DIS</th>\n",
       "      <th>RAD</th>\n",
       "      <th>TAX</th>\n",
       "      <th>PTRATIO</th>\n",
       "      <th>LSTAT</th>\n",
       "      <th>MEDV</th>\n",
       "    </tr>\n",
       "  </thead>\n",
       "  <tbody>\n",
       "    <tr>\n",
       "      <th>0</th>\n",
       "      <td>0.00632</td>\n",
       "      <td>18.0</td>\n",
       "      <td>2.31</td>\n",
       "      <td>0</td>\n",
       "      <td>0.538</td>\n",
       "      <td>6.575</td>\n",
       "      <td>65.2</td>\n",
       "      <td>4.0900</td>\n",
       "      <td>1</td>\n",
       "      <td>296</td>\n",
       "      <td>15.3</td>\n",
       "      <td>4.98</td>\n",
       "      <td>24.0</td>\n",
       "    </tr>\n",
       "    <tr>\n",
       "      <th>1</th>\n",
       "      <td>0.02731</td>\n",
       "      <td>0.0</td>\n",
       "      <td>7.07</td>\n",
       "      <td>0</td>\n",
       "      <td>0.469</td>\n",
       "      <td>6.421</td>\n",
       "      <td>78.9</td>\n",
       "      <td>4.9671</td>\n",
       "      <td>2</td>\n",
       "      <td>242</td>\n",
       "      <td>17.8</td>\n",
       "      <td>9.14</td>\n",
       "      <td>21.6</td>\n",
       "    </tr>\n",
       "    <tr>\n",
       "      <th>2</th>\n",
       "      <td>0.02729</td>\n",
       "      <td>0.0</td>\n",
       "      <td>7.07</td>\n",
       "      <td>0</td>\n",
       "      <td>0.469</td>\n",
       "      <td>7.185</td>\n",
       "      <td>61.1</td>\n",
       "      <td>4.9671</td>\n",
       "      <td>2</td>\n",
       "      <td>242</td>\n",
       "      <td>17.8</td>\n",
       "      <td>4.03</td>\n",
       "      <td>34.7</td>\n",
       "    </tr>\n",
       "    <tr>\n",
       "      <th>3</th>\n",
       "      <td>0.03237</td>\n",
       "      <td>0.0</td>\n",
       "      <td>2.18</td>\n",
       "      <td>0</td>\n",
       "      <td>0.458</td>\n",
       "      <td>6.998</td>\n",
       "      <td>45.8</td>\n",
       "      <td>6.0622</td>\n",
       "      <td>3</td>\n",
       "      <td>222</td>\n",
       "      <td>18.7</td>\n",
       "      <td>2.94</td>\n",
       "      <td>33.4</td>\n",
       "    </tr>\n",
       "    <tr>\n",
       "      <th>4</th>\n",
       "      <td>0.06905</td>\n",
       "      <td>0.0</td>\n",
       "      <td>2.18</td>\n",
       "      <td>0</td>\n",
       "      <td>0.458</td>\n",
       "      <td>7.147</td>\n",
       "      <td>54.2</td>\n",
       "      <td>6.0622</td>\n",
       "      <td>3</td>\n",
       "      <td>222</td>\n",
       "      <td>18.7</td>\n",
       "      <td>5.33</td>\n",
       "      <td>36.2</td>\n",
       "    </tr>\n",
       "  </tbody>\n",
       "</table>\n",
       "</div>"
      ],
      "text/plain": [
       "      CRIM   ZN   INDUS   CHAS    NOX  ...  RAD  TAX  PTRATIO  LSTAT  MEDV\n",
       "0  0.00632  18.0    2.31     0  0.538  ...    1  296     15.3   4.98  24.0\n",
       "1  0.02731   0.0    7.07     0  0.469  ...    2  242     17.8   9.14  21.6\n",
       "2  0.02729   0.0    7.07     0  0.469  ...    2  242     17.8   4.03  34.7\n",
       "3  0.03237   0.0    2.18     0  0.458  ...    3  222     18.7   2.94  33.4\n",
       "4  0.06905   0.0    2.18     0  0.458  ...    3  222     18.7   5.33  36.2\n",
       "\n",
       "[5 rows x 13 columns]"
      ]
     },
     "execution_count": 32,
     "metadata": {
      "tags": []
     },
     "output_type": "execute_result"
    }
   ],
   "source": [
    "  rawBostonData.head()"
   ]
  },
  {
   "cell_type": "code",
   "execution_count": 0,
   "metadata": {
    "colab": {},
    "colab_type": "code",
    "id": "JMj1v65JIiMG"
   },
   "outputs": [],
   "source": [
    "#limpiamos los valores nulos\n",
    "rawBostonData = rawBostonData.dropna()"
   ]
  },
  {
   "cell_type": "code",
   "execution_count": 0,
   "metadata": {
    "colab": {},
    "colab_type": "code",
    "id": "bNf0J_DOIsFh"
   },
   "outputs": [],
   "source": [
    "#limpiamos duplicados\n",
    "rawBostonData = rawBostonData.dropna()"
   ]
  },
  {
   "cell_type": "code",
   "execution_count": 0,
   "metadata": {
    "colab": {
     "base_uri": "https://localhost:8080/",
     "height": 243
    },
    "colab_type": "code",
    "id": "oaAPNMxAI3k5",
    "outputId": "54454629-3d60-431c-89dc-c749ee2fe111"
   },
   "outputs": [
    {
     "data": {
      "text/plain": [
       "['CRIM',\n",
       " ' ZN ',\n",
       " 'INDUS ',\n",
       " 'CHAS',\n",
       " 'NOX',\n",
       " 'RM',\n",
       " 'AGE',\n",
       " 'DIS',\n",
       " 'RAD',\n",
       " 'TAX',\n",
       " 'PTRATIO',\n",
       " 'LSTAT',\n",
       " 'MEDV']"
      ]
     },
     "execution_count": 35,
     "metadata": {
      "tags": []
     },
     "output_type": "execute_result"
    }
   ],
   "source": [
    "list(rawBostonData.columns)"
   ]
  },
  {
   "cell_type": "code",
   "execution_count": 0,
   "metadata": {
    "colab": {
     "base_uri": "https://localhost:8080/",
     "height": 239
    },
    "colab_type": "code",
    "id": "Oj40Yt4cI8pt",
    "outputId": "cf58b5c4-3bc9-46c0-f0bb-4d95aadba060"
   },
   "outputs": [
    {
     "data": {
      "text/html": [
       "<div>\n",
       "<style scoped>\n",
       "    .dataframe tbody tr th:only-of-type {\n",
       "        vertical-align: middle;\n",
       "    }\n",
       "\n",
       "    .dataframe tbody tr th {\n",
       "        vertical-align: top;\n",
       "    }\n",
       "\n",
       "    .dataframe thead th {\n",
       "        text-align: right;\n",
       "    }\n",
       "</style>\n",
       "<table border=\"1\" class=\"dataframe\">\n",
       "  <thead>\n",
       "    <tr style=\"text-align: right;\">\n",
       "      <th></th>\n",
       "      <th>crimeRatePerCapita</th>\n",
       "      <th>landOver25K_sqft</th>\n",
       "      <th>non-retailLandProptn</th>\n",
       "      <th>riverDummy</th>\n",
       "      <th>nitrixOxide_pp10m</th>\n",
       "      <th>AvgNo.RoomsPerDwelling</th>\n",
       "      <th>ProptnOwnerOccupied</th>\n",
       "      <th>weightedDist</th>\n",
       "      <th>radialHighwaysAccess</th>\n",
       "      <th>propTaxRate_per10K</th>\n",
       "      <th>pupilTeacherRatio</th>\n",
       "      <th>pctLowerStatus</th>\n",
       "      <th>medianValue_Ks</th>\n",
       "    </tr>\n",
       "  </thead>\n",
       "  <tbody>\n",
       "    <tr>\n",
       "      <th>0</th>\n",
       "      <td>0.00632</td>\n",
       "      <td>18.0</td>\n",
       "      <td>2.31</td>\n",
       "      <td>0</td>\n",
       "      <td>0.538</td>\n",
       "      <td>6.575</td>\n",
       "      <td>65.2</td>\n",
       "      <td>4.0900</td>\n",
       "      <td>1</td>\n",
       "      <td>296</td>\n",
       "      <td>15.3</td>\n",
       "      <td>4.98</td>\n",
       "      <td>24.0</td>\n",
       "    </tr>\n",
       "    <tr>\n",
       "      <th>1</th>\n",
       "      <td>0.02731</td>\n",
       "      <td>0.0</td>\n",
       "      <td>7.07</td>\n",
       "      <td>0</td>\n",
       "      <td>0.469</td>\n",
       "      <td>6.421</td>\n",
       "      <td>78.9</td>\n",
       "      <td>4.9671</td>\n",
       "      <td>2</td>\n",
       "      <td>242</td>\n",
       "      <td>17.8</td>\n",
       "      <td>9.14</td>\n",
       "      <td>21.6</td>\n",
       "    </tr>\n",
       "    <tr>\n",
       "      <th>2</th>\n",
       "      <td>0.02729</td>\n",
       "      <td>0.0</td>\n",
       "      <td>7.07</td>\n",
       "      <td>0</td>\n",
       "      <td>0.469</td>\n",
       "      <td>7.185</td>\n",
       "      <td>61.1</td>\n",
       "      <td>4.9671</td>\n",
       "      <td>2</td>\n",
       "      <td>242</td>\n",
       "      <td>17.8</td>\n",
       "      <td>4.03</td>\n",
       "      <td>34.7</td>\n",
       "    </tr>\n",
       "    <tr>\n",
       "      <th>3</th>\n",
       "      <td>0.03237</td>\n",
       "      <td>0.0</td>\n",
       "      <td>2.18</td>\n",
       "      <td>0</td>\n",
       "      <td>0.458</td>\n",
       "      <td>6.998</td>\n",
       "      <td>45.8</td>\n",
       "      <td>6.0622</td>\n",
       "      <td>3</td>\n",
       "      <td>222</td>\n",
       "      <td>18.7</td>\n",
       "      <td>2.94</td>\n",
       "      <td>33.4</td>\n",
       "    </tr>\n",
       "    <tr>\n",
       "      <th>4</th>\n",
       "      <td>0.06905</td>\n",
       "      <td>0.0</td>\n",
       "      <td>2.18</td>\n",
       "      <td>0</td>\n",
       "      <td>0.458</td>\n",
       "      <td>7.147</td>\n",
       "      <td>54.2</td>\n",
       "      <td>6.0622</td>\n",
       "      <td>3</td>\n",
       "      <td>222</td>\n",
       "      <td>18.7</td>\n",
       "      <td>5.33</td>\n",
       "      <td>36.2</td>\n",
       "    </tr>\n",
       "  </tbody>\n",
       "</table>\n",
       "</div>"
      ],
      "text/plain": [
       "   crimeRatePerCapita  landOver25K_sqft  ...  pctLowerStatus  medianValue_Ks\n",
       "0             0.00632              18.0  ...            4.98            24.0\n",
       "1             0.02731               0.0  ...            9.14            21.6\n",
       "2             0.02729               0.0  ...            4.03            34.7\n",
       "3             0.03237               0.0  ...            2.94            33.4\n",
       "4             0.06905               0.0  ...            5.33            36.2\n",
       "\n",
       "[5 rows x 13 columns]"
      ]
     },
     "execution_count": 36,
     "metadata": {
      "tags": []
     },
     "output_type": "execute_result"
    }
   ],
   "source": [
    "renamedBostonData = rawBostonData.rename(columns = {'CRIM':'crimeRatePerCapita', \n",
    " ' ZN ':'landOver25K_sqft', \n",
    " 'INDUS ':'non-retailLandProptn', \n",
    " 'CHAS':'riverDummy', \n",
    " 'NOX':'nitrixOxide_pp10m', \n",
    " 'RM':'AvgNo.RoomsPerDwelling', \n",
    " 'AGE':'ProptnOwnerOccupied', \n",
    " 'DIS':'weightedDist', \n",
    " 'RAD':'radialHighwaysAccess', \n",
    " 'TAX':'propTaxRate_per10K', \n",
    " 'PTRATIO':'pupilTeacherRatio', \n",
    " 'LSTAT':'pctLowerStatus', \n",
    " 'MEDV':'medianValue_Ks'}) \n",
    "renamedBostonData.head() "
   ]
  },
  {
   "cell_type": "code",
   "execution_count": 0,
   "metadata": {
    "colab": {
     "base_uri": "https://localhost:8080/",
     "height": 364
    },
    "colab_type": "code",
    "id": "wxQu_NccJBaS",
    "outputId": "db7091ca-9bdc-46c5-a098-5e55545f6253"
   },
   "outputs": [
    {
     "name": "stdout",
     "output_type": "stream",
     "text": [
      "<class 'pandas.core.frame.DataFrame'>\n",
      "Int64Index: 506 entries, 0 to 505\n",
      "Data columns (total 13 columns):\n",
      " #   Column                  Non-Null Count  Dtype  \n",
      "---  ------                  --------------  -----  \n",
      " 0   crimeRatePerCapita      506 non-null    float64\n",
      " 1   landOver25K_sqft        506 non-null    float64\n",
      " 2   non-retailLandProptn    506 non-null    float64\n",
      " 3   riverDummy              506 non-null    int64  \n",
      " 4   nitrixOxide_pp10m       506 non-null    float64\n",
      " 5   AvgNo.RoomsPerDwelling  506 non-null    float64\n",
      " 6   ProptnOwnerOccupied     506 non-null    float64\n",
      " 7   weightedDist            506 non-null    float64\n",
      " 8   radialHighwaysAccess    506 non-null    int64  \n",
      " 9   propTaxRate_per10K      506 non-null    int64  \n",
      " 10  pupilTeacherRatio       506 non-null    float64\n",
      " 11  pctLowerStatus          506 non-null    float64\n",
      " 12  medianValue_Ks          506 non-null    float64\n",
      "dtypes: float64(10), int64(3)\n",
      "memory usage: 55.3 KB\n"
     ]
    }
   ],
   "source": [
    "renamedBostonData.info()"
   ]
  },
  {
   "cell_type": "code",
   "execution_count": 0,
   "metadata": {
    "colab": {
     "base_uri": "https://localhost:8080/",
     "height": 447
    },
    "colab_type": "code",
    "id": "zugOS3GAJIJ0",
    "outputId": "b7372a18-2f8f-49be-9672-b5dfb5396805"
   },
   "outputs": [
    {
     "data": {
      "text/html": [
       "<div>\n",
       "<style scoped>\n",
       "    .dataframe tbody tr th:only-of-type {\n",
       "        vertical-align: middle;\n",
       "    }\n",
       "\n",
       "    .dataframe tbody tr th {\n",
       "        vertical-align: top;\n",
       "    }\n",
       "\n",
       "    .dataframe thead th {\n",
       "        text-align: right;\n",
       "    }\n",
       "</style>\n",
       "<table border=\"1\" class=\"dataframe\">\n",
       "  <thead>\n",
       "    <tr style=\"text-align: right;\">\n",
       "      <th></th>\n",
       "      <th>count</th>\n",
       "      <th>mean</th>\n",
       "      <th>std</th>\n",
       "      <th>min</th>\n",
       "      <th>25%</th>\n",
       "      <th>50%</th>\n",
       "      <th>75%</th>\n",
       "      <th>max</th>\n",
       "    </tr>\n",
       "  </thead>\n",
       "  <tbody>\n",
       "    <tr>\n",
       "      <th>crimeRatePerCapita</th>\n",
       "      <td>506.0</td>\n",
       "      <td>3.613524</td>\n",
       "      <td>8.601545</td>\n",
       "      <td>0.00632</td>\n",
       "      <td>0.082045</td>\n",
       "      <td>0.25651</td>\n",
       "      <td>3.677082</td>\n",
       "      <td>88.9762</td>\n",
       "    </tr>\n",
       "    <tr>\n",
       "      <th>landOver25K_sqft</th>\n",
       "      <td>506.0</td>\n",
       "      <td>11.363636</td>\n",
       "      <td>23.322453</td>\n",
       "      <td>0.00000</td>\n",
       "      <td>0.000000</td>\n",
       "      <td>0.00000</td>\n",
       "      <td>12.500000</td>\n",
       "      <td>100.0000</td>\n",
       "    </tr>\n",
       "    <tr>\n",
       "      <th>non-retailLandProptn</th>\n",
       "      <td>506.0</td>\n",
       "      <td>11.136779</td>\n",
       "      <td>6.860353</td>\n",
       "      <td>0.46000</td>\n",
       "      <td>5.190000</td>\n",
       "      <td>9.69000</td>\n",
       "      <td>18.100000</td>\n",
       "      <td>27.7400</td>\n",
       "    </tr>\n",
       "    <tr>\n",
       "      <th>riverDummy</th>\n",
       "      <td>506.0</td>\n",
       "      <td>0.069170</td>\n",
       "      <td>0.253994</td>\n",
       "      <td>0.00000</td>\n",
       "      <td>0.000000</td>\n",
       "      <td>0.00000</td>\n",
       "      <td>0.000000</td>\n",
       "      <td>1.0000</td>\n",
       "    </tr>\n",
       "    <tr>\n",
       "      <th>nitrixOxide_pp10m</th>\n",
       "      <td>506.0</td>\n",
       "      <td>0.554695</td>\n",
       "      <td>0.115878</td>\n",
       "      <td>0.38500</td>\n",
       "      <td>0.449000</td>\n",
       "      <td>0.53800</td>\n",
       "      <td>0.624000</td>\n",
       "      <td>0.8710</td>\n",
       "    </tr>\n",
       "    <tr>\n",
       "      <th>AvgNo.RoomsPerDwelling</th>\n",
       "      <td>506.0</td>\n",
       "      <td>6.284634</td>\n",
       "      <td>0.702617</td>\n",
       "      <td>3.56100</td>\n",
       "      <td>5.885500</td>\n",
       "      <td>6.20850</td>\n",
       "      <td>6.623500</td>\n",
       "      <td>8.7800</td>\n",
       "    </tr>\n",
       "    <tr>\n",
       "      <th>ProptnOwnerOccupied</th>\n",
       "      <td>506.0</td>\n",
       "      <td>68.574901</td>\n",
       "      <td>28.148861</td>\n",
       "      <td>2.90000</td>\n",
       "      <td>45.025000</td>\n",
       "      <td>77.50000</td>\n",
       "      <td>94.075000</td>\n",
       "      <td>100.0000</td>\n",
       "    </tr>\n",
       "    <tr>\n",
       "      <th>weightedDist</th>\n",
       "      <td>506.0</td>\n",
       "      <td>3.795043</td>\n",
       "      <td>2.105710</td>\n",
       "      <td>1.12960</td>\n",
       "      <td>2.100175</td>\n",
       "      <td>3.20745</td>\n",
       "      <td>5.188425</td>\n",
       "      <td>12.1265</td>\n",
       "    </tr>\n",
       "    <tr>\n",
       "      <th>radialHighwaysAccess</th>\n",
       "      <td>506.0</td>\n",
       "      <td>9.549407</td>\n",
       "      <td>8.707259</td>\n",
       "      <td>1.00000</td>\n",
       "      <td>4.000000</td>\n",
       "      <td>5.00000</td>\n",
       "      <td>24.000000</td>\n",
       "      <td>24.0000</td>\n",
       "    </tr>\n",
       "    <tr>\n",
       "      <th>propTaxRate_per10K</th>\n",
       "      <td>506.0</td>\n",
       "      <td>408.237154</td>\n",
       "      <td>168.537116</td>\n",
       "      <td>187.00000</td>\n",
       "      <td>279.000000</td>\n",
       "      <td>330.00000</td>\n",
       "      <td>666.000000</td>\n",
       "      <td>711.0000</td>\n",
       "    </tr>\n",
       "    <tr>\n",
       "      <th>pupilTeacherRatio</th>\n",
       "      <td>506.0</td>\n",
       "      <td>18.455534</td>\n",
       "      <td>2.164946</td>\n",
       "      <td>12.60000</td>\n",
       "      <td>17.400000</td>\n",
       "      <td>19.05000</td>\n",
       "      <td>20.200000</td>\n",
       "      <td>22.0000</td>\n",
       "    </tr>\n",
       "    <tr>\n",
       "      <th>pctLowerStatus</th>\n",
       "      <td>506.0</td>\n",
       "      <td>12.653063</td>\n",
       "      <td>7.141062</td>\n",
       "      <td>1.73000</td>\n",
       "      <td>6.950000</td>\n",
       "      <td>11.36000</td>\n",
       "      <td>16.955000</td>\n",
       "      <td>37.9700</td>\n",
       "    </tr>\n",
       "    <tr>\n",
       "      <th>medianValue_Ks</th>\n",
       "      <td>506.0</td>\n",
       "      <td>22.532806</td>\n",
       "      <td>9.197104</td>\n",
       "      <td>5.00000</td>\n",
       "      <td>17.025000</td>\n",
       "      <td>21.20000</td>\n",
       "      <td>25.000000</td>\n",
       "      <td>50.0000</td>\n",
       "    </tr>\n",
       "  </tbody>\n",
       "</table>\n",
       "</div>"
      ],
      "text/plain": [
       "                        count        mean  ...         75%       max\n",
       "crimeRatePerCapita      506.0    3.613524  ...    3.677082   88.9762\n",
       "landOver25K_sqft        506.0   11.363636  ...   12.500000  100.0000\n",
       "non-retailLandProptn    506.0   11.136779  ...   18.100000   27.7400\n",
       "riverDummy              506.0    0.069170  ...    0.000000    1.0000\n",
       "nitrixOxide_pp10m       506.0    0.554695  ...    0.624000    0.8710\n",
       "AvgNo.RoomsPerDwelling  506.0    6.284634  ...    6.623500    8.7800\n",
       "ProptnOwnerOccupied     506.0   68.574901  ...   94.075000  100.0000\n",
       "weightedDist            506.0    3.795043  ...    5.188425   12.1265\n",
       "radialHighwaysAccess    506.0    9.549407  ...   24.000000   24.0000\n",
       "propTaxRate_per10K      506.0  408.237154  ...  666.000000  711.0000\n",
       "pupilTeacherRatio       506.0   18.455534  ...   20.200000   22.0000\n",
       "pctLowerStatus          506.0   12.653063  ...   16.955000   37.9700\n",
       "medianValue_Ks          506.0   22.532806  ...   25.000000   50.0000\n",
       "\n",
       "[13 rows x 8 columns]"
      ]
     },
     "execution_count": 38,
     "metadata": {
      "tags": []
     },
     "output_type": "execute_result"
    }
   ],
   "source": [
    "#calculamos estadisticas basicas\n",
    "\"\"\"\n",
    "We used the pandas function, describe, called on the DataFrame to calculate simple statistics for numeric fields (this includes any field with a numpy number\n",
    "in the DataFrame. The statistics include the minimum, the maximum, the count of rows in each column, the average of each column (mean), the 25th percentile, \n",
    "the 50th percentile, and the 75th percentile.  We transpose (using the .T function) the output of the describe function to get a better layout.\n",
    "\"\"\"\n",
    "renamedBostonData.describe(include=[np.number]).T"
   ]
  },
  {
   "cell_type": "code",
   "execution_count": 0,
   "metadata": {
    "colab": {},
    "colab_type": "code",
    "id": "kaY4QqKiJrtP"
   },
   "outputs": [],
   "source": [
    "#Divide the DataFrame into training and test sets,\n",
    "\"\"\"\n",
    "We choose a test data size of 30%, which is 0.3. The train_test_split function is used to achieve this. We set the seed of the random number generator \n",
    "so that we can obtain a reproducible split each time we run this code. An arbitrary value of 10 is used here. \n",
    "It is good model-building practice to divide a dataset being used to develop a model into at least two parts. \n",
    "One part is used to develop the model and it is called a training set (X_train and y_train combined).\n",
    "\"\"\"\n",
    "X = renamedBostonData.drop('crimeRatePerCapita', axis = 1)\n",
    "y = renamedBostonData[['crimeRatePerCapita']]\n",
    "seed = 10\n",
    "test_data_size = 0.3\n",
    "X_train, X_test, y_train, y_test = train_test_split(X, y, test_size = test_data_size, random_state = seed)\n",
    "train_data = pd.concat([X_train, y_train], axis = 1)\n",
    "test_data = pd.concat([X_test, y_test], axis = 1)"
   ]
  },
  {
   "cell_type": "code",
   "execution_count": 0,
   "metadata": {
    "colab": {
     "base_uri": "https://localhost:8080/",
     "height": 793
    },
    "colab_type": "code",
    "id": "Btt7WptDKIfe",
    "outputId": "90888c1c-b496-4464-8712-cc5c0cd93819"
   },
   "outputs": [
    {
     "data": {
      "image/png": "[encoded data removed]",
      "text/plain": [
       "<Figure size 576x396 with 2 Axes>"
      ]
     },
     "execution_count": 40,
     "metadata": {
      "tags": []
     },
     "output_type": "execute_result"
    },
    {
     "data": {
      "image/png": "[encoded data removed]",
      "text/plain": [
       "<Figure size 576x396 with 2 Axes>"
      ]
     },
     "metadata": {
      "tags": []
     },
     "output_type": "display_data"
    }
   ],
   "source": [
    "#Calculate and plot a correlation matrix for the train_data set\n",
    "#el backslash es para continuar la linea en el renglon siguiente\n",
    "corrMatrix = train_data.corr(method = 'pearson')\n",
    "xnames=list(train_data.columns)\n",
    "ynames=list(train_data.columns)\n",
    "plot_corr(corrMatrix, xnames=xnames, ynames=ynames,\\\n",
    "          title=None, normcolor=False, cmap='RdYlBu_r')"
   ]
  },
  {
   "cell_type": "code",
   "execution_count": 0,
   "metadata": {
    "colab": {
     "base_uri": "https://localhost:8080/",
     "height": 55
    },
    "colab_type": "code",
    "id": "m8ynOhhQKhw5",
    "outputId": "0481afce-db32-4f86-897d-932cfe3165e5"
   },
   "outputs": [
    {
     "data": {
      "text/plain": [
       "'\\nIn the preceding heatmap, we can see that there is a strong positive correlation (an increase in one causes an increase in the other) \\nbetween variables that have orange or red squares. \\nThere is a strong negative correlation (an increase in one causes a decrease in the other) between variables with blue squares. \\nThere is little or no correlation between variables with pale-colored squares.\\n'"
      ]
     },
     "execution_count": 41,
     "metadata": {
      "tags": []
     },
     "output_type": "execute_result"
    }
   ],
   "source": [
    "\"\"\"\n",
    "In the preceding heatmap, we can see that there is a strong positive correlation (an increase in one causes an increase in the other) \n",
    "between variables that have orange or red squares. \n",
    "There is a strong negative correlation (an increase in one causes a decrease in the other) between variables with blue squares. \n",
    "There is little or no correlation between variables with pale-colored squares.\n",
    "\"\"\"\n"
   ]
  },
  {
   "cell_type": "code",
   "execution_count": 0,
   "metadata": {
    "colab": {
     "base_uri": "https://localhost:8080/",
     "height": 485
    },
    "colab_type": "code",
    "id": "Xo77xVtXMDKe",
    "outputId": "d08995ec-e9f3-4f88-b29f-4473d4a7b532"
   },
   "outputs": [
    {
     "data": {
      "text/html": [
       "<div>\n",
       "<style scoped>\n",
       "    .dataframe tbody tr th:only-of-type {\n",
       "        vertical-align: middle;\n",
       "    }\n",
       "\n",
       "    .dataframe tbody tr th {\n",
       "        vertical-align: top;\n",
       "    }\n",
       "\n",
       "    .dataframe thead th {\n",
       "        text-align: right;\n",
       "    }\n",
       "</style>\n",
       "<table border=\"1\" class=\"dataframe\">\n",
       "  <thead>\n",
       "    <tr style=\"text-align: right;\">\n",
       "      <th></th>\n",
       "      <th>landOver25K_sqft</th>\n",
       "      <th>non-retailLandProptn</th>\n",
       "      <th>riverDummy</th>\n",
       "      <th>nitrixOxide_pp10m</th>\n",
       "      <th>AvgNo.RoomsPerDwelling</th>\n",
       "      <th>ProptnOwnerOccupied</th>\n",
       "      <th>weightedDist</th>\n",
       "      <th>radialHighwaysAccess</th>\n",
       "      <th>propTaxRate_per10K</th>\n",
       "      <th>pupilTeacherRatio</th>\n",
       "      <th>pctLowerStatus</th>\n",
       "      <th>medianValue_Ks</th>\n",
       "      <th>crimeRatePerCapita</th>\n",
       "    </tr>\n",
       "  </thead>\n",
       "  <tbody>\n",
       "    <tr>\n",
       "      <th>landOver25K_sqft</th>\n",
       "      <td>1.000000</td>\n",
       "      <td>-0.540095</td>\n",
       "      <td>-0.059189</td>\n",
       "      <td>-0.520305</td>\n",
       "      <td>0.355346</td>\n",
       "      <td>-0.577457</td>\n",
       "      <td>0.659340</td>\n",
       "      <td>-0.311920</td>\n",
       "      <td>-0.324172</td>\n",
       "      <td>-0.424612</td>\n",
       "      <td>-0.435827</td>\n",
       "      <td>0.422574</td>\n",
       "      <td>-0.198455</td>\n",
       "    </tr>\n",
       "    <tr>\n",
       "      <th>non-retailLandProptn</th>\n",
       "      <td>-0.540095</td>\n",
       "      <td>1.000000</td>\n",
       "      <td>0.065271</td>\n",
       "      <td>0.758178</td>\n",
       "      <td>-0.399166</td>\n",
       "      <td>0.667887</td>\n",
       "      <td>-0.728968</td>\n",
       "      <td>0.580813</td>\n",
       "      <td>0.702973</td>\n",
       "      <td>0.398513</td>\n",
       "      <td>0.607457</td>\n",
       "      <td>-0.508338</td>\n",
       "      <td>0.387471</td>\n",
       "    </tr>\n",
       "    <tr>\n",
       "      <th>riverDummy</th>\n",
       "      <td>-0.059189</td>\n",
       "      <td>0.065271</td>\n",
       "      <td>1.000000</td>\n",
       "      <td>0.091469</td>\n",
       "      <td>0.107996</td>\n",
       "      <td>0.106329</td>\n",
       "      <td>-0.098551</td>\n",
       "      <td>0.022731</td>\n",
       "      <td>-0.007864</td>\n",
       "      <td>-0.094255</td>\n",
       "      <td>-0.041110</td>\n",
       "      <td>0.136831</td>\n",
       "      <td>-0.044587</td>\n",
       "    </tr>\n",
       "    <tr>\n",
       "      <th>nitrixOxide_pp10m</th>\n",
       "      <td>-0.520305</td>\n",
       "      <td>0.758178</td>\n",
       "      <td>0.091469</td>\n",
       "      <td>1.000000</td>\n",
       "      <td>-0.306510</td>\n",
       "      <td>0.742016</td>\n",
       "      <td>-0.776311</td>\n",
       "      <td>0.606721</td>\n",
       "      <td>0.662164</td>\n",
       "      <td>0.206809</td>\n",
       "      <td>0.603656</td>\n",
       "      <td>-0.453424</td>\n",
       "      <td>0.405813</td>\n",
       "    </tr>\n",
       "    <tr>\n",
       "      <th>AvgNo.RoomsPerDwelling</th>\n",
       "      <td>0.355346</td>\n",
       "      <td>-0.399166</td>\n",
       "      <td>0.107996</td>\n",
       "      <td>-0.306510</td>\n",
       "      <td>1.000000</td>\n",
       "      <td>-0.263085</td>\n",
       "      <td>0.215439</td>\n",
       "      <td>-0.183000</td>\n",
       "      <td>-0.280341</td>\n",
       "      <td>-0.350828</td>\n",
       "      <td>-0.586573</td>\n",
       "      <td>0.666761</td>\n",
       "      <td>-0.167258</td>\n",
       "    </tr>\n",
       "    <tr>\n",
       "      <th>ProptnOwnerOccupied</th>\n",
       "      <td>-0.577457</td>\n",
       "      <td>0.667887</td>\n",
       "      <td>0.106329</td>\n",
       "      <td>0.742016</td>\n",
       "      <td>-0.263085</td>\n",
       "      <td>1.000000</td>\n",
       "      <td>-0.751059</td>\n",
       "      <td>0.458717</td>\n",
       "      <td>0.515376</td>\n",
       "      <td>0.289976</td>\n",
       "      <td>0.639881</td>\n",
       "      <td>-0.419062</td>\n",
       "      <td>0.355730</td>\n",
       "    </tr>\n",
       "    <tr>\n",
       "      <th>weightedDist</th>\n",
       "      <td>0.659340</td>\n",
       "      <td>-0.728968</td>\n",
       "      <td>-0.098551</td>\n",
       "      <td>-0.776311</td>\n",
       "      <td>0.215439</td>\n",
       "      <td>-0.751059</td>\n",
       "      <td>1.000000</td>\n",
       "      <td>-0.494932</td>\n",
       "      <td>-0.543333</td>\n",
       "      <td>-0.259140</td>\n",
       "      <td>-0.522120</td>\n",
       "      <td>0.289658</td>\n",
       "      <td>-0.378997</td>\n",
       "    </tr>\n",
       "    <tr>\n",
       "      <th>radialHighwaysAccess</th>\n",
       "      <td>-0.311920</td>\n",
       "      <td>0.580813</td>\n",
       "      <td>0.022731</td>\n",
       "      <td>0.606721</td>\n",
       "      <td>-0.183000</td>\n",
       "      <td>0.458717</td>\n",
       "      <td>-0.494932</td>\n",
       "      <td>1.000000</td>\n",
       "      <td>0.908578</td>\n",
       "      <td>0.462290</td>\n",
       "      <td>0.456592</td>\n",
       "      <td>-0.383132</td>\n",
       "      <td>0.608838</td>\n",
       "    </tr>\n",
       "    <tr>\n",
       "      <th>propTaxRate_per10K</th>\n",
       "      <td>-0.324172</td>\n",
       "      <td>0.702973</td>\n",
       "      <td>-0.007864</td>\n",
       "      <td>0.662164</td>\n",
       "      <td>-0.280341</td>\n",
       "      <td>0.515376</td>\n",
       "      <td>-0.543333</td>\n",
       "      <td>0.908578</td>\n",
       "      <td>1.000000</td>\n",
       "      <td>0.462556</td>\n",
       "      <td>0.528029</td>\n",
       "      <td>-0.478903</td>\n",
       "      <td>0.565035</td>\n",
       "    </tr>\n",
       "    <tr>\n",
       "      <th>pupilTeacherRatio</th>\n",
       "      <td>-0.424612</td>\n",
       "      <td>0.398513</td>\n",
       "      <td>-0.094255</td>\n",
       "      <td>0.206809</td>\n",
       "      <td>-0.350828</td>\n",
       "      <td>0.289976</td>\n",
       "      <td>-0.259140</td>\n",
       "      <td>0.462290</td>\n",
       "      <td>0.462556</td>\n",
       "      <td>1.000000</td>\n",
       "      <td>0.374842</td>\n",
       "      <td>-0.503692</td>\n",
       "      <td>0.276530</td>\n",
       "    </tr>\n",
       "    <tr>\n",
       "      <th>pctLowerStatus</th>\n",
       "      <td>-0.435827</td>\n",
       "      <td>0.607457</td>\n",
       "      <td>-0.041110</td>\n",
       "      <td>0.603656</td>\n",
       "      <td>-0.586573</td>\n",
       "      <td>0.639881</td>\n",
       "      <td>-0.522120</td>\n",
       "      <td>0.456592</td>\n",
       "      <td>0.528029</td>\n",
       "      <td>0.374842</td>\n",
       "      <td>1.000000</td>\n",
       "      <td>-0.743548</td>\n",
       "      <td>0.406340</td>\n",
       "    </tr>\n",
       "    <tr>\n",
       "      <th>medianValue_Ks</th>\n",
       "      <td>0.422574</td>\n",
       "      <td>-0.508338</td>\n",
       "      <td>0.136831</td>\n",
       "      <td>-0.453424</td>\n",
       "      <td>0.666761</td>\n",
       "      <td>-0.419062</td>\n",
       "      <td>0.289658</td>\n",
       "      <td>-0.383132</td>\n",
       "      <td>-0.478903</td>\n",
       "      <td>-0.503692</td>\n",
       "      <td>-0.743548</td>\n",
       "      <td>1.000000</td>\n",
       "      <td>-0.378949</td>\n",
       "    </tr>\n",
       "    <tr>\n",
       "      <th>crimeRatePerCapita</th>\n",
       "      <td>-0.198455</td>\n",
       "      <td>0.387471</td>\n",
       "      <td>-0.044587</td>\n",
       "      <td>0.405813</td>\n",
       "      <td>-0.167258</td>\n",
       "      <td>0.355730</td>\n",
       "      <td>-0.378997</td>\n",
       "      <td>0.608838</td>\n",
       "      <td>0.565035</td>\n",
       "      <td>0.276530</td>\n",
       "      <td>0.406340</td>\n",
       "      <td>-0.378949</td>\n",
       "      <td>1.000000</td>\n",
       "    </tr>\n",
       "  </tbody>\n",
       "</table>\n",
       "</div>"
      ],
      "text/plain": [
       "                        landOver25K_sqft  ...  crimeRatePerCapita\n",
       "landOver25K_sqft                1.000000  ...           -0.198455\n",
       "non-retailLandProptn           -0.540095  ...            0.387471\n",
       "riverDummy                     -0.059189  ...           -0.044587\n",
       "nitrixOxide_pp10m              -0.520305  ...            0.405813\n",
       "AvgNo.RoomsPerDwelling          0.355346  ...           -0.167258\n",
       "ProptnOwnerOccupied            -0.577457  ...            0.355730\n",
       "weightedDist                    0.659340  ...           -0.378997\n",
       "radialHighwaysAccess           -0.311920  ...            0.608838\n",
       "propTaxRate_per10K             -0.324172  ...            0.565035\n",
       "pupilTeacherRatio              -0.424612  ...            0.276530\n",
       "pctLowerStatus                 -0.435827  ...            0.406340\n",
       "medianValue_Ks                  0.422574  ...           -0.378949\n",
       "crimeRatePerCapita             -0.198455  ...            1.000000\n",
       "\n",
       "[13 rows x 13 columns]"
      ]
     },
     "execution_count": 42,
     "metadata": {
      "tags": []
     },
     "output_type": "execute_result"
    }
   ],
   "source": [
    "train_data.corr (method = 'pearson')"
   ]
  },
  {
   "cell_type": "code",
   "execution_count": 0,
   "metadata": {
    "colab": {
     "base_uri": "https://localhost:8080/",
     "height": 481
    },
    "colab_type": "code",
    "id": "_5HT4Sp_MD2g",
    "outputId": "44f115a1-38d8-433a-97d6-711f8ffe95be"
   },
   "outputs": [
    {
     "data": {
      "text/plain": [
       "<matplotlib.axes._subplots.AxesSubplot at 0x7f66beb36940>"
      ]
     },
     "execution_count": 43,
     "metadata": {
      "tags": []
     },
     "output_type": "execute_result"
    },
    {
     "data": {
      "image/png": "[encoded data removed]",
      "text/plain": [
       "<Figure size 720x432 with 1 Axes>"
      ]
     },
     "metadata": {
      "tags": []
     },
     "output_type": "display_data"
    }
   ],
   "source": [
    "#usando Scatter graphs\n",
    "\"\"\"\n",
    "Use the subplots function in matplotlib to define a canvas (assigned the variable name fig in the following code) and a graph object (assigned the variable \n",
    "name ax in the following code) in Python. \n",
    "You can set the size of the graph by setting the figsize (width = 10, height = 6) argument of the function\n",
    "\n",
    "Use the seaborn function regplot to create the scatter plot\n",
    "\n",
    "The function accepts arguments for the independent variable (x), the dependent variable (y), the confidence interval of the regression parameters (ci), \n",
    "which takes values from 0 to 100, the DataFrame that has x and y (data), a matplotlib graph object (ax), and others to control the aesthetics of the \n",
    "points on the graph.  (In this case, the confidence interval is set to None\n",
    "\"\"\"\n",
    "fig, ax = plt.subplots(figsize=(10, 6))\n",
    "fig.tight_layout()\n",
    "ax.set_ylabel('Crime rate per Capita', fontsize=15, fontname='DejaVu Sans')\n",
    "ax.set_xlabel(\"Median value of owner-occupied homes in $1000's\", fontsize=15, fontname='DejaVu Sans')\n",
    "ax.set_xlim(left=None, right=55)\n",
    "ax.set_ylim(bottom=-10, top=30)\n",
    "ax.tick_params(axis='both', which='major', labelsize=12)\n",
    "\n",
    "sns.regplot(x='medianValue_Ks', y='crimeRatePerCapita', ci=None, data=train_data, ax=ax, color='k', scatter_kws={\"s\": 20,\"color\": \"royalblue\", \"alpha\":1})\n"
   ]
  },
  {
   "cell_type": "code",
   "execution_count": 0,
   "metadata": {
    "colab": {
     "base_uri": "https://localhost:8080/",
     "height": 378
    },
    "colab_type": "code",
    "id": "jabbCphJOIAL",
    "outputId": "b4d462cb-f695-4b4b-ecbc-64cc2a1a5f54"
   },
   "outputs": [
    {
     "data": {
      "image/png": "[encoded data removed]",
      "text/plain": [
       "<Figure size 720x432 with 1 Axes>"
      ]
     },
     "metadata": {
      "tags": []
     },
     "output_type": "display_data"
    }
   ],
   "source": [
    "fig, ax = plt.subplots(figsize=(10, 6))"
   ]
  },
  {
   "cell_type": "code",
   "execution_count": 0,
   "metadata": {
    "colab": {},
    "colab_type": "code",
    "id": "4Vy9KfoGFauU"
   },
   "outputs": [],
   "source": []
  }
 ],
 "metadata": {
  "colab": {
   "collapsed_sections": [],
   "name": "Data Science in Python Workshop.ipynb",
   "provenance": []
  },
  "kernelspec": {
   "display_name": "Python 3",
   "language": "python",
   "name": "python3"
  },
  "language_info": {
   "codemirror_mode": {
    "name": "ipython",
    "version": 3
   },
   "file_extension": ".py",
   "mimetype": "text/x-python",
   "name": "python",
   "nbconvert_exporter": "python",
   "pygments_lexer": "ipython3",
   "version": "3.7.6"
  }
 },
 "nbformat": 4,
 "nbformat_minor": 1
}
